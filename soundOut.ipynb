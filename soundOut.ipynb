{
 "cells": [
  {
   "cell_type": "code",
   "execution_count": 47,
   "metadata": {},
   "outputs": [
    {
     "name": "stdout",
     "output_type": "stream",
     "text": [
      "Playing snoop_2020-03-12_19-36-04.mp3\n"
     ]
    }
   ],
   "source": [
    "# this picks a random mp3 in a folder and plays it\n",
    "# if it picks a non-mp3 file too many times, it breaks\n",
    "# give it a folder with few (if any) non-mp3 files\n",
    "#\n",
    "# hot fire\n",
    "#     -Kai\n",
    "\n",
    "import os, random\n",
    "\n",
    "# update this line\n",
    "d = '/tf/notebooks/output' # directory the mp3s reside. if this is inside docker, use the docker mount point\n",
    "\n",
    "# leave britney alone\n",
    "f = ''\n",
    "breakLoop = 0\n",
    "maxLoops = 20\n",
    "\n",
    "while not '.mp3' in f:\n",
    "    f = random.choice([x for x in os.listdir(d) if os.path.isfile(os.path.join(d, x))])\n",
    "    breakLoop += 1\n",
    "    if breakLoop > maxLoops:\n",
    "        print('Error: Cant find mp3s. Is',d,'the right folder?')\n",
    "        break\n",
    "        \n",
    "if breakLoop < maxLoops:        \n",
    "    #ffplay f \n",
    "    print('Playing',f)"
   ]
  },
  {
   "cell_type": "code",
   "execution_count": null,
   "metadata": {},
   "outputs": [],
   "source": []
  },
  {
   "cell_type": "code",
   "execution_count": null,
   "metadata": {},
   "outputs": [],
   "source": []
  },
  {
   "cell_type": "code",
   "execution_count": null,
   "metadata": {},
   "outputs": [],
   "source": []
  }
 ],
 "metadata": {
  "kernelspec": {
   "display_name": "Python 3",
   "language": "python",
   "name": "python3"
  },
  "language_info": {
   "codemirror_mode": {
    "name": "ipython",
    "version": 3
   },
   "file_extension": ".py",
   "mimetype": "text/x-python",
   "name": "python",
   "nbconvert_exporter": "python",
   "pygments_lexer": "ipython3",
   "version": "3.6.8"
  }
 },
 "nbformat": 4,
 "nbformat_minor": 4
}
