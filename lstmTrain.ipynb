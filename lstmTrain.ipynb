{
 "cells": [
  {
   "cell_type": "code",
   "execution_count": 1,
   "metadata": {
    "scrolled": true
   },
   "outputs": [],
   "source": [
    "# And what is the use of a demo,' \n",
    "# thought Kai, 'without structures or explanation?'\n",
    "#\n",
    "# github.com/kaibrooks"
   ]
  },
  {
   "cell_type": "code",
   "execution_count": 2,
   "metadata": {
    "scrolled": true
   },
   "outputs": [
    {
     "name": "stderr",
     "output_type": "stream",
     "text": [
      "Using TensorFlow backend.\n"
     ]
    },
    {
     "name": "stdout",
     "output_type": "stream",
     "text": [
      "TensorFlow version 2.1.0\n",
      "Keras version 2.2.4-tf\n",
      "Numpy version 1.18.1\n"
     ]
    }
   ],
   "source": [
    "from __future__ import print_function\n",
    "from keras.callbacks import LambdaCallback\n",
    "from keras.callbacks import EarlyStopping\n",
    "from keras.callbacks import ModelCheckpoint\n",
    "from keras.models import Sequential\n",
    "from keras.models import load_model\n",
    "from keras.layers import Dense\n",
    "from keras.layers import LSTM\n",
    "from keras.optimizers import RMSprop\n",
    "from keras.optimizers import Adam \n",
    "from keras.utils.data_utils import get_file\n",
    "from keras.layers import Dropout # dropout crew 4 lyf\n",
    "from IPython.display import clear_output # clear plot after each epoch\n",
    "import tensorflow as tf\n",
    "from tensorflow import keras as keras\n",
    "import numpy as np\n",
    "import random\n",
    "import sys\n",
    "import io\n",
    "import os\n",
    "import h5py\n",
    "import matplotlib.pyplot as plt # fancy plots\n",
    "from matplotlib import pyplot as plt\n",
    "from datetime import datetime # so we know how much time we've wasted\n",
    "\n",
    "class PlotLosses(keras.callbacks.Callback):\n",
    "    def on_train_begin(self, logs={}):\n",
    "        self.i = 0\n",
    "        self.x = []\n",
    "        self.losses = []\n",
    "        self.val_losses = []\n",
    "        \n",
    "        self.fig = plt.figure()\n",
    "        \n",
    "        self.logs = []\n",
    "\n",
    "    def on_epoch_end(self, epoch, logs={}):\n",
    "        \n",
    "        self.logs.append(logs)\n",
    "        self.x.append(self.i)\n",
    "        self.losses.append(logs.get('loss'))\n",
    "        self.val_losses.append(logs.get('val_loss'))\n",
    "        self.i += 1\n",
    "        \n",
    "        clear_output(wait=True)\n",
    "        plt.title('training in progress')\n",
    "        plt.plot(self.x, self.losses, label=\"loss\")\n",
    "        plt.plot(self.x, self.val_losses, label=\"val_loss\")\n",
    "        plt.legend()\n",
    "        plt.show();\n",
    "        \n",
    "plot_losses = PlotLosses()\n",
    "\n",
    "## try to use the GPU if we can\n",
    "\n",
    "gpus = tf.config.experimental.list_physical_devices('GPU')\n",
    "if gpus:\n",
    "  try:\n",
    "    # Currently, memory growth needs to be the same across GPUs\n",
    "    for gpu in gpus:\n",
    "      tf.config.experimental.set_memory_growth(gpu, True)\n",
    "    logical_gpus = tf.config.experimental.list_logical_devices('GPU')\n",
    "    print(len(gpus), \"Physical GPUs,\", len(logical_gpus), \"Logical GPUs\")\n",
    "  except RuntimeError as e:\n",
    "    # Memory growth must be set before GPUs have been initialized\n",
    "    print(e)\n",
    "\n",
    "\n",
    "print('TensorFlow version', tf.__version__)\n",
    "print('Keras version', keras.__version__)\n",
    "#print('SciPy version', scipy.__version__)\n",
    "print('Numpy version', np.__version__) \n",
    "#print('Pillow version', PIL.__version__) "
   ]
  },
  {
   "cell_type": "code",
   "execution_count": 3,
   "metadata": {},
   "outputs": [
    {
     "name": "stdout",
     "output_type": "stream",
     "text": [
      "Go go snoop\n"
     ]
    }
   ],
   "source": [
    "## pick your dataset\n",
    "# this should be the same name as the .txt file inside /data\n",
    "\n",
    "source = 'snoop' # default: alice\n",
    "\n",
    "print('Go go',source)"
   ]
  },
  {
   "cell_type": "code",
   "execution_count": 4,
   "metadata": {
    "scrolled": true
   },
   "outputs": [
    {
     "name": "stdout",
     "output_type": "stream",
     "text": [
      "Loaded data/snoop.txt\n",
      "corpus length : 1010805\n",
      "unique chars  : 82\n",
      "total patterns: 336922\n",
      "\n",
      "Vectorizing...\n",
      "Done\n"
     ]
    }
   ],
   "source": [
    "## all the settings\n",
    "epochs = 500 #60\n",
    "epochOutput = False\n",
    "temperature = [0.2, 0.5, 1.0, 1.2]\n",
    "earlyStop = True\n",
    "\n",
    "np.seterr(divide='ignore') # ignore divide by zero warnings\n",
    "\n",
    "# save locations\n",
    "save_dir = os.path.join(os.getcwd(), 'trained_models')\n",
    "plot_dir = os.path.join(os.getcwd(), 'plots')\n",
    "\n",
    "# make sure these folders exist\n",
    "if not os.path.exists(save_dir): os.mkdir(save_dir)\n",
    "if not os.path.exists(plot_dir): os.mkdir(plot_dir)\n",
    "\n",
    "\n",
    "## get text file and parse it\n",
    "\n",
    "#path = get_file( # use this for http request\n",
    "#    'afile.txt',\n",
    "#    origin='http://omega.lul/afile.txt')\n",
    "\n",
    "# look for a .txt file in /data\n",
    "\n",
    "path = os.path.join('data', source + '.txt')\n",
    "\n",
    "print('Loaded',path)\n",
    "\n",
    "# print sweet ~data~ about the file\n",
    "with open(path, encoding='utf-8', errors='ignore') as f: # errors=ignore strips non utf-8 chars\n",
    "    text = f.read().lower()\n",
    "\n",
    "chars = sorted(list(set(text)))\n",
    "\n",
    "char_indices = dict((c, i) for i, c in enumerate(chars))\n",
    "indices_char = dict((i, c) for i, c in enumerate(chars))\n",
    "\n",
    "# cut the text in semi-redundant sequences of maxlen characters\n",
    "maxlen = 40\n",
    "step = 3\n",
    "sentences = []\n",
    "next_chars = []\n",
    "for i in range(0, len(text) - maxlen, step):\n",
    "    sentences.append(text[i: i + maxlen])\n",
    "    next_chars.append(text[i + maxlen])\n",
    "\n",
    "print('corpus length :', len(text))\n",
    "print('unique chars  :', len(chars))\n",
    "print('total patterns:', len(sentences))\n",
    "print('') # empty line\n",
    "\n",
    "if len(text) < 100000:\n",
    "    print('corpus should be at least 100K words')\n",
    "    print('') # empty line\n",
    "elif len(text) < 1000000:\n",
    "    print('corpus would be better at 1M words')\n",
    "    print('') # empty line\n",
    "\n",
    "    \n",
    "print('Vectorizing...')\n",
    "x = np.zeros((len(sentences), maxlen, len(chars)), dtype=np.bool)\n",
    "y = np.zeros((len(sentences), len(chars)), dtype=np.bool)\n",
    "for i, sentence in enumerate(sentences):\n",
    "    for t, char in enumerate(sentence):\n",
    "        x[i, t, char_indices[char]] = 1\n",
    "    y[i, char_indices[next_chars[i]]] = 1\n",
    "print('Done')"
   ]
  },
  {
   "cell_type": "code",
   "execution_count": 5,
   "metadata": {
    "scrolled": false
   },
   "outputs": [
    {
     "name": "stdout",
     "output_type": "stream",
     "text": [
      "Building model...\n",
      "Done\n"
     ]
    }
   ],
   "source": [
    "## model\n",
    "# this has NO TEST DATASET\n",
    "\n",
    "print('Building model...')\n",
    "#model = Sequential()\n",
    "#model.add(LSTM(128, input_shape=(maxlen, len(chars))))\n",
    "#model.add(Dense(len(chars), activation='softmax'))\n",
    "#optimizer = RMSprop(learning_rate=0.01)\n",
    "#model.compile(loss='categorical_crossentropy', optimizer=optimizer)\n",
    "\n",
    "model = Sequential()\n",
    "model.add(LSTM(128, return_sequences=True, input_shape=(maxlen, len(chars))))\n",
    "model.add(Dropout(0.5))\n",
    "model.add(LSTM(128))\n",
    "model.add(Dropout(0.2))\n",
    "model.add(Dense(len(chars), activation='softmax'))\n",
    "model.add(Dropout(0.2))\n",
    "\n",
    "optimizer = Adam(learning_rate=0.0001, beta_1=0.9, beta_2=0.999, amsgrad=False)\n",
    "model.compile(loss='categorical_crossentropy', optimizer=optimizer, metrics=['accuracy'])\n",
    "\n",
    "\n",
    "print('Done')"
   ]
  },
  {
   "cell_type": "code",
   "execution_count": 6,
   "metadata": {
    "scrolled": false
   },
   "outputs": [
    {
     "data": {
      "image/png": "[encoded data removed]",
      "text/plain": [
       "<Figure size 432x288 with 1 Axes>"
      ]
     },
     "metadata": {
      "needs_background": "light"
     },
     "output_type": "display_data"
    },
    {
     "name": "stdout",
     "output_type": "stream",
     "text": [
      "Finished training at 17-Mar-2020 02:09:28\n",
      "Model summary:\n",
      "Model: \"sequential_1\"\n",
      "_________________________________________________________________\n",
      "Layer (type)                 Output Shape              Param #   \n",
      "=================================================================\n",
      "lstm_1 (LSTM)                (None, 40, 128)           108032    \n",
      "_________________________________________________________________\n",
      "dropout_1 (Dropout)          (None, 40, 128)           0         \n",
      "_________________________________________________________________\n",
      "lstm_2 (LSTM)                (None, 128)               131584    \n",
      "_________________________________________________________________\n",
      "dropout_2 (Dropout)          (None, 128)               0         \n",
      "_________________________________________________________________\n",
      "dense_1 (Dense)              (None, 82)                10578     \n",
      "_________________________________________________________________\n",
      "dropout_3 (Dropout)          (None, 82)                0         \n",
      "=================================================================\n",
      "Total params: 250,194\n",
      "Trainable params: 250,194\n",
      "Non-trainable params: 0\n",
      "_________________________________________________________________\n"
     ]
    }
   ],
   "source": [
    "# train me\n",
    "now = datetime.now()\n",
    "runDate = now.strftime(\"%Y-%m-%d_%H-%M-%S\")\n",
    "print(\"Starting training at\", runDate, 'UTC') # lets see how long this takes\n",
    "\n",
    "temperature = 0.5 # temp temperature for the epochOutput\n",
    "\n",
    "# things for output while we train\n",
    "def sample(preds, temperature=1.0):\n",
    "    # helper function to sample an index from a probability array\n",
    "    preds = np.asarray(preds).astype('float64')\n",
    "    preds = np.log(preds) / temperature\n",
    "    exp_preds = np.exp(preds)\n",
    "    preds = exp_preds / np.sum(exp_preds)\n",
    "    probas = np.random.multinomial(1, preds, 1)\n",
    "    return np.argmax(probas)\n",
    "\n",
    "def on_epoch_end(epoch, _):\n",
    "    if epochOutput:\n",
    "        start_index = random.randint(0, len(text) - maxlen - 1)\n",
    "        generated = ''\n",
    "        sentence = text[start_index: start_index + maxlen]\n",
    "        generated += sentence\n",
    "        sys.stdout.write(generated)\n",
    "\n",
    "        for i in range(400):\n",
    "            x_pred = np.zeros((1, maxlen, len(chars)))\n",
    "            for t, char in enumerate(sentence):\n",
    "                x_pred[0, t, char_indices[char]] = 1.\n",
    "\n",
    "            preds = model.predict(x_pred, verbose=0)[0]\n",
    "            next_index = sample(preds, temperature)\n",
    "            next_char = indices_char[next_index]\n",
    "\n",
    "            sentence = sentence[1:] + next_char\n",
    "            sys.stdout.write(next_char)\n",
    "            sys.stdout.flush()\n",
    "        print()\n",
    "\n",
    "print_callback = LambdaCallback(on_epoch_end=on_epoch_end)\n",
    "\n",
    "\n",
    "# early stopping\n",
    "# loss, accuracy\n",
    "\n",
    "if earlyStop:\n",
    "    #es = EarlyStopping(monitor='val_loss', mode='min', verbose=1)\n",
    "    #es = EarlyStopping(monitor='loss', mode='min', min_delta=1, baseline=0.1)\n",
    "    es = EarlyStopping(monitor='loss', mode='min', verbose=1, patience=round(epochs*1.1)) # stop early if no progress for 10% of max epochs\n",
    "\n",
    "\n",
    "mc1 = ModelCheckpoint('trained_models/best_model.h5', monitor='val_loss', mode='min', save_best_only=True)\n",
    "mc2 = ModelCheckpoint('trained_models/last_model.h5') # save model each run\n",
    "\n",
    "history = model.fit(x, y,\n",
    "          batch_size=128,\n",
    "          epochs=epochs,\n",
    "          callbacks=[print_callback, es, mc1, mc2, plot_losses],\n",
    "          validation_split=0.33) # add back es!\n",
    "\n",
    "then = datetime.now()\n",
    "print(\"Finished training at\", then.strftime(\"%d-%b-%Y %H:%M:%S\")) # lets see how long this took\n",
    "\n",
    "print('Model summary:')\n",
    "model.summary()"
   ]
  },
  {
   "cell_type": "code",
   "execution_count": 7,
   "metadata": {
    "scrolled": true
   },
   "outputs": [
    {
     "name": "stdout",
     "output_type": "stream",
     "text": [
      "Saving...\n",
      "Saved to  /tf/notebooks/jeeves-speech/trained_models as 2020-03-16_01-02-30\n",
      "Model file is 3 MB\n",
      "Weights file is 1 MB\n"
     ]
    }
   ],
   "source": [
    "## save models and log\n",
    "\n",
    "# this is where you pay attention to where you mapped the Docker dir to your local dir at run\n",
    "save_dir = os.path.join(os.getcwd(), 'trained_models')\n",
    "\n",
    "if not os.path.isdir(save_dir): # make dir if it doesn't exist\n",
    "    os.makedirs(save_dir)    \n",
    "    print(save_dir, 'doesn\\'t exist, creating it')\n",
    "\n",
    "print('Saving...') # do this because saving the model takes 5+ seconds sometimes\n",
    "\n",
    "\n",
    "# name the files\n",
    "last_name =  source + '_e' + str(epochs) + '_' + runDate + '_trainedmodel_last.h5'\n",
    "summary_name = source + '_e' + str(epochs) + '_' + runDate + '_modelsummary.txt'\n",
    "best_name = source + '_e' + str(epochs) + '_' + runDate + '_trainedmodel_best.h5'\n",
    "weights_name = source + '_e' + str(epochs) + '_' + runDate + '_trainedmodel_weights.h5' # for weights only\n",
    "\n",
    "\n",
    "\n",
    "# get the best model\n",
    "saved_model = load_model('trained_models/best_model.h5')\n",
    "\n",
    "# save best model\n",
    "model_path = os.path.join(save_dir, best_name)\n",
    "saved_model.save(model_path)\n",
    "\n",
    "# save weights only\n",
    "model_path = os.path.join(save_dir, weights_name)\n",
    "saved_model.save_weights(model_path)\n",
    "\n",
    "# save summary\n",
    "with open(os.path.join(save_dir, summary_name),'w') as fh:\n",
    "    # Pass the file handle in as a lambda function to make it callable\n",
    "    model.summary(print_fn=lambda x: fh.write(x + '\\n'))\n",
    "\n",
    "\n",
    "print('Saved to ', os.path.join(save_dir), 'as', runDate)\n",
    "#print('Saved best model at %s ' % os.path.join(save_dir, best_name)) \n",
    "#print('Saved summary at %s' % os.path.join(save_dir, summary_name))   \n",
    "\n",
    "\n",
    "size = os.path.getsize(os.path.join(save_dir, best_name)) # note how big the model is because they're often huge\n",
    "print('Model file is',round(size/1e+6),'MB')\n",
    "size = os.path.getsize(model_path) # note how big the model is because they're often huge\n",
    "print('Weights file is',round(size/1e+6),'MB')"
   ]
  },
  {
   "cell_type": "code",
   "execution_count": 8,
   "metadata": {
    "scrolled": true
   },
   "outputs": [
    {
     "name": "stdout",
     "output_type": "stream",
     "text": [
      "Min: 4.177842126585725\n"
     ]
    },
    {
     "data": {
      "image/png": "[encoded data removed]",
      "text/plain": [
       "<Figure size 432x288 with 1 Axes>"
      ]
     },
     "metadata": {
      "needs_background": "light"
     },
     "output_type": "display_data"
    },
    {
     "name": "stdout",
     "output_type": "stream",
     "text": [
      "Saved /tf/notebooks/jeeves-speech/plots/snoop_2020-03-16_01-02-30_loss.png\n"
     ]
    }
   ],
   "source": [
    "## plot training information\n",
    "# accuracy\n",
    "#plt.plot(history.history['accuracy']) # kx or similar Matlab commands for plotting\n",
    "#plt.plot(history.history['val_accuracy'])\n",
    "#plt.title('model accuracy')\n",
    "#plt.ylabel('accuracy')\n",
    "#plt.xlabel('epoch')\n",
    "#plt.legend(['train', 'test'], loc='lower right')\n",
    "#plt.show()\n",
    "\n",
    "# loss\n",
    "loss_min = np.min(history.history['loss'])\n",
    "\n",
    "plt.plot(history.history['loss'])\n",
    "#plt.scatter(loss_min, list(range(1, 200)), 'kx')\n",
    "plt.title('model loss')\n",
    "plt.ylabel('loss')\n",
    "plt.xlabel('epoch')\n",
    "plt.legend(['train', 'test'], loc='upper right')\n",
    "plt.savefig(os.path.join(plot_dir, source + '_' + runDate + '_loss.png'))\n",
    "\n",
    "print('Min:', str(loss_min))\n",
    "plt.show()\n",
    "\n",
    "\n",
    "print('Saved', os.path.join(plot_dir, source + '_' + runDate + '_loss.png'))\n"
   ]
  },
  {
   "cell_type": "code",
   "execution_count": 9,
   "metadata": {
    "scrolled": true
   },
   "outputs": [
    {
     "name": "stdout",
     "output_type": "stream",
     "text": [
      "Loaded /tf/notebooks/jeeves-speech/trained_models/snoop_e500_2020-03-16_01-02-30_trainedmodel_best.h5\n"
     ]
    }
   ],
   "source": [
    "## load a model for testing\n",
    "\n",
    "#model_path = os.path.join(save_dir, 'last_model.h5') # external file\n",
    "#model_path = os.path.join(save_dir, last_name) # last\n",
    "model_path = os.path.join(save_dir, best_name) # best\n",
    "\n",
    "model = load_model(model_path)\n",
    "print('Loaded', model_path)"
   ]
  },
  {
   "cell_type": "code",
   "execution_count": 10,
   "metadata": {
    "scrolled": false
   },
   "outputs": [
    {
     "name": "stdout",
     "output_type": "stream",
     "text": [
      "*** seed: < nce he bustingthe vaporshe caught the >\n",
      "\n",
      " nce he bustingthe vaporshe caught the beat shit\n",
      "\n",
      "\n",
      "and while you can't be charce the game\n",
      "cause you get the morey in the way so when i can like a for the flood\n",
      "and i got a fuck up and these prosels come to bling on the corn\n",
      "so i'm the place ther hangs down bean it all and we got from the lock and my niggas, i get hand of, i got the side\n",
      "i was the bitches and and when i don't don't thang\n",
      "they gon' tell me the beat on the game\n",
      "they wann\n"
     ]
    }
   ],
   "source": [
    "## set for the final output\n",
    "start_index = random.randint(0, len(text) - maxlen - 1)\n",
    "sentence = text[start_index: start_index + maxlen]\n",
    "randomizeOut = False\n",
    "temperature = 0.5 # 0.5? depends on training length\n",
    "maxChars = 400 # 400 is same as above\n",
    "\n",
    "#if randomizeOut:\n",
    "#    generated = ''\n",
    "#    sentence = text[start_index: start_index + maxlen]\n",
    "#    generated += sentence\n",
    "\n",
    "seed = sentence.replace('\\n','')\n",
    "seed = seed.replace('\\t','')\n",
    "print('*** seed: <', seed ,'>')\n",
    "#sys.stdout.write(generated)\n",
    "\n",
    "print('\\n',seed, end = '')\n",
    "\n",
    "for i in range(maxChars):\n",
    "    x_pred = np.zeros((1, maxlen, len(chars)))\n",
    "    for t, char in enumerate(sentence):\n",
    "        x_pred[0, t, char_indices[char]] = 1.\n",
    "\n",
    "    preds = model.predict(x_pred, verbose=0)[0]\n",
    "    next_index = sample(preds, temperature)\n",
    "    next_char = indices_char[next_index]\n",
    "\n",
    "    sentence = sentence[1:] + next_char\n",
    "\n",
    "    sys.stdout.write(next_char)\n",
    "    sys.stdout.flush()\n",
    "print()"
   ]
  },
  {
   "cell_type": "code",
   "execution_count": null,
   "metadata": {},
   "outputs": [],
   "source": []
  },
  {
   "cell_type": "code",
   "execution_count": null,
   "metadata": {},
   "outputs": [],
   "source": []
  },
  {
   "cell_type": "code",
   "execution_count": null,
   "metadata": {},
   "outputs": [],
   "source": []
  },
  {
   "cell_type": "code",
   "execution_count": null,
   "metadata": {},
   "outputs": [],
   "source": []
  },
  {
   "cell_type": "code",
   "execution_count": null,
   "metadata": {},
   "outputs": [],
   "source": []
  }
 ],
 "metadata": {
  "kernelspec": {
   "display_name": "Python 3",
   "language": "python",
   "name": "python3"
  },
  "language_info": {
   "codemirror_mode": {
    "name": "ipython",
    "version": 3
   },
   "file_extension": ".py",
   "mimetype": "text/x-python",
   "name": "python",
   "nbconvert_exporter": "python",
   "pygments_lexer": "ipython3",
   "version": "3.6.9"
  }
 },
 "nbformat": 4,
 "nbformat_minor": 2
}
